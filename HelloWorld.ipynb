{
  "nbformat": 4,
  "nbformat_minor": 0,
  "metadata": {
    "colab": {
      "name": "HelloWorld.ipynb",
      "provenance": [],
      "authorship_tag": "ABX9TyOVK2nsUYxT0h36EWo5Ufu9",
      "include_colab_link": true
    },
    "kernelspec": {
      "name": "python3",
      "display_name": "Python 3"
    },
    "language_info": {
      "name": "python"
    }
  },
  "cells": [
    {
      "cell_type": "markdown",
      "metadata": {
        "id": "view-in-github",
        "colab_type": "text"
      },
      "source": [
        "<a href=\"https://colab.research.google.com/github/kevinjabez/CIS320-computer-networking/blob/main/HelloWorld.ipynb\" target=\"_parent\"><img src=\"https://colab.research.google.com/assets/colab-badge.svg\" alt=\"Open In Colab\"/></a>"
      ]
    },
    {
      "cell_type": "code",
      "execution_count": null,
      "metadata": {
        "colab": {
          "base_uri": "https://localhost:8080/"
        },
        "id": "VN6D-kKXgLjf",
        "outputId": "deec5389-8c3d-41bf-89bd-6f2ea24f9c8e"
      },
      "outputs": [
        {
          "output_type": "stream",
          "name": "stdout",
          "text": [
            "Hello Niagara\n",
            "YASSS!!!\n"
          ]
        }
      ],
      "source": [
        "print('Hello Niagara')\n",
        "print('YASSS!!!')"
      ]
    },
    {
      "cell_type": "markdown",
      "source": [
        "# this is my hello world notebook\n",
        "\n",
        "\n"
      ],
      "metadata": {
        "id": "bp9G6XuugQkM"
      }
    }
  ]
}